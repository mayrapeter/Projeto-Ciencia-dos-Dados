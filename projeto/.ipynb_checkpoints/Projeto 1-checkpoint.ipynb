{
 "cells": [
  {
   "cell_type": "markdown",
   "metadata": {},
   "source": [
    "# Projeto 1 de Ciência dos Dados"
   ]
  },
  {
   "cell_type": "markdown",
   "metadata": {},
   "source": [
    "Nome: Mayra Peter da Rocha Loures\n",
    "\n",
    "O projeto baseia-se em pesquisar, escolher e importar do site https://www.gapminder.org/tools/ duas tabelas com informações, além do IDH. Então comparar os três dados, determinar se a correlação entre eles e responder a seguinte pergunta: \n",
    "\n",
    "A inflação e o índice de mortalidade infantil influenciam o IDH de um mesmo país??"
   ]
  },
  {
   "cell_type": "code",
   "execution_count": 30,
   "metadata": {},
   "outputs": [],
   "source": [
    "%matplotlib inline\n",
    "import pandas as pd\n",
    "import numpy as np\n",
    "import math as math\n",
    "from scipy import stats\n",
    "import matplotlib.pyplot as plt\n",
    "import seaborn as sns"
   ]
  },
  {
   "cell_type": "markdown",
   "metadata": {},
   "source": [
    " Importando os dados de IDH, mortalidade infantil e inflação:"
   ]
  },
  {
   "cell_type": "code",
   "execution_count": 31,
   "metadata": {},
   "outputs": [],
   "source": [
    "idh = pd.read_excel('hdi_human_development_index.xlsx')\n",
    "morteinfantil = pd.read_excel('child_mortality_0_5_year_olds_dying_per_1000_born.xlsx')\n",
    "inflacao = pd.read_excel('inflation_annual_percent.xlsx')"
   ]
  },
  {
   "cell_type": "markdown",
   "metadata": {},
   "source": [
    "Escolhendo o ano de 2015 e renomeando as colunas:"
   ]
  },
  {
   "cell_type": "code",
   "execution_count": 32,
   "metadata": {},
   "outputs": [],
   "source": [
    "idh_2015 = idh.loc[:, [\"geo\", 2015]]\n",
    "idh_2015 = idh_2015.rename(columns={'geo': 'País'})\n",
    "idh_2015 = idh_2015.rename(columns={2015: 'IDH em 2015'})\n",
    "\n",
    "morte_2015 = morteinfantil.loc[:, [\"geo\", 2015]]\n",
    "morte_2015 = morte_2015.rename(columns={'geo': 'País'})\n",
    "morte_2015 = morte_2015.rename(columns={2015: 'Mortalidade infantil em 2015'})\n",
    "\n",
    "inflacao_2015 = inflacao.loc[:, [\"geo\", 2015]]\n",
    "inflacao_2015 = inflacao_2015.rename(columns={'geo': 'País'})\n",
    "inflacao_2015 = inflacao_2015.rename(columns={2015: 'Inflação em 2015'})"
   ]
  },
  {
   "cell_type": "markdown",
   "metadata": {},
   "source": [
    "Juntando as tabelas:"
   ]
  },
  {
   "cell_type": "code",
   "execution_count": 33,
   "metadata": {
    "scrolled": false
   },
   "outputs": [
    {
     "data": {
      "text/html": [
       "<div>\n",
       "<style scoped>\n",
       "    .dataframe tbody tr th:only-of-type {\n",
       "        vertical-align: middle;\n",
       "    }\n",
       "\n",
       "    .dataframe tbody tr th {\n",
       "        vertical-align: top;\n",
       "    }\n",
       "\n",
       "    .dataframe thead th {\n",
       "        text-align: right;\n",
       "    }\n",
       "</style>\n",
       "<table border=\"1\" class=\"dataframe\">\n",
       "  <thead>\n",
       "    <tr style=\"text-align: right;\">\n",
       "      <th></th>\n",
       "      <th>IDH em 2015</th>\n",
       "      <th>Inflação em 2015</th>\n",
       "      <th>Mortalidade infantil em 2015</th>\n",
       "    </tr>\n",
       "    <tr>\n",
       "      <th>País</th>\n",
       "      <th></th>\n",
       "      <th></th>\n",
       "      <th></th>\n",
       "    </tr>\n",
       "  </thead>\n",
       "  <tbody>\n",
       "    <tr>\n",
       "      <th>Central African Republic</th>\n",
       "      <td>0.352</td>\n",
       "      <td>6.160</td>\n",
       "      <td>129.0</td>\n",
       "    </tr>\n",
       "    <tr>\n",
       "      <th>Niger</th>\n",
       "      <td>0.353</td>\n",
       "      <td>0.920</td>\n",
       "      <td>95.0</td>\n",
       "    </tr>\n",
       "    <tr>\n",
       "      <th>Chad</th>\n",
       "      <td>0.396</td>\n",
       "      <td>-8.090</td>\n",
       "      <td>131.0</td>\n",
       "    </tr>\n",
       "    <tr>\n",
       "      <th>Burkina Faso</th>\n",
       "      <td>0.402</td>\n",
       "      <td>-3.070</td>\n",
       "      <td>88.5</td>\n",
       "    </tr>\n",
       "    <tr>\n",
       "      <th>Burundi</th>\n",
       "      <td>0.404</td>\n",
       "      <td>4.860</td>\n",
       "      <td>74.6</td>\n",
       "    </tr>\n",
       "    <tr>\n",
       "      <th>Guinea</th>\n",
       "      <td>0.414</td>\n",
       "      <td>2.820</td>\n",
       "      <td>92.0</td>\n",
       "    </tr>\n",
       "    <tr>\n",
       "      <th>Mozambique</th>\n",
       "      <td>0.418</td>\n",
       "      <td>4.380</td>\n",
       "      <td>75.1</td>\n",
       "    </tr>\n",
       "    <tr>\n",
       "      <th>South Sudan</th>\n",
       "      <td>0.418</td>\n",
       "      <td>0.468</td>\n",
       "      <td>93.8</td>\n",
       "    </tr>\n",
       "    <tr>\n",
       "      <th>Sierra Leone</th>\n",
       "      <td>0.420</td>\n",
       "      <td>19.600</td>\n",
       "      <td>119.0</td>\n",
       "    </tr>\n",
       "    <tr>\n",
       "      <th>Eritrea</th>\n",
       "      <td>0.420</td>\n",
       "      <td>NaN</td>\n",
       "      <td>45.9</td>\n",
       "    </tr>\n",
       "    <tr>\n",
       "      <th>Guinea-Bissau</th>\n",
       "      <td>0.424</td>\n",
       "      <td>10.800</td>\n",
       "      <td>91.3</td>\n",
       "    </tr>\n",
       "    <tr>\n",
       "      <th>Liberia</th>\n",
       "      <td>0.427</td>\n",
       "      <td>1.040</td>\n",
       "      <td>70.1</td>\n",
       "    </tr>\n",
       "    <tr>\n",
       "      <th>Congo, Dem. Rep.</th>\n",
       "      <td>0.435</td>\n",
       "      <td>-1.160</td>\n",
       "      <td>97.6</td>\n",
       "    </tr>\n",
       "    <tr>\n",
       "      <th>Mali</th>\n",
       "      <td>0.442</td>\n",
       "      <td>2.790</td>\n",
       "      <td>114.0</td>\n",
       "    </tr>\n",
       "    <tr>\n",
       "      <th>Ethiopia</th>\n",
       "      <td>0.448</td>\n",
       "      <td>10.800</td>\n",
       "      <td>61.3</td>\n",
       "    </tr>\n",
       "    <tr>\n",
       "      <th>Gambia</th>\n",
       "      <td>0.452</td>\n",
       "      <td>6.370</td>\n",
       "      <td>67.5</td>\n",
       "    </tr>\n",
       "    <tr>\n",
       "      <th>Djibouti</th>\n",
       "      <td>0.473</td>\n",
       "      <td>2.110</td>\n",
       "      <td>66.2</td>\n",
       "    </tr>\n",
       "    <tr>\n",
       "      <th>Cote d'Ivoire</th>\n",
       "      <td>0.474</td>\n",
       "      <td>3.110</td>\n",
       "      <td>95.1</td>\n",
       "    </tr>\n",
       "    <tr>\n",
       "      <th>Malawi</th>\n",
       "      <td>0.476</td>\n",
       "      <td>20.500</td>\n",
       "      <td>59.1</td>\n",
       "    </tr>\n",
       "    <tr>\n",
       "      <th>Afghanistan</th>\n",
       "      <td>0.479</td>\n",
       "      <td>2.430</td>\n",
       "      <td>73.2</td>\n",
       "    </tr>\n",
       "    <tr>\n",
       "      <th>Yemen</th>\n",
       "      <td>0.482</td>\n",
       "      <td>21.400</td>\n",
       "      <td>55.3</td>\n",
       "    </tr>\n",
       "    <tr>\n",
       "      <th>Benin</th>\n",
       "      <td>0.485</td>\n",
       "      <td>0.075</td>\n",
       "      <td>100.0</td>\n",
       "    </tr>\n",
       "    <tr>\n",
       "      <th>Togo</th>\n",
       "      <td>0.487</td>\n",
       "      <td>3.630</td>\n",
       "      <td>78.0</td>\n",
       "    </tr>\n",
       "    <tr>\n",
       "      <th>Sudan</th>\n",
       "      <td>0.490</td>\n",
       "      <td>17.900</td>\n",
       "      <td>67.1</td>\n",
       "    </tr>\n",
       "    <tr>\n",
       "      <th>Haiti</th>\n",
       "      <td>0.493</td>\n",
       "      <td>6.880</td>\n",
       "      <td>68.9</td>\n",
       "    </tr>\n",
       "    <tr>\n",
       "      <th>Uganda</th>\n",
       "      <td>0.493</td>\n",
       "      <td>5.000</td>\n",
       "      <td>55.9</td>\n",
       "    </tr>\n",
       "    <tr>\n",
       "      <th>Senegal</th>\n",
       "      <td>0.494</td>\n",
       "      <td>0.314</td>\n",
       "      <td>49.5</td>\n",
       "    </tr>\n",
       "    <tr>\n",
       "      <th>Lesotho</th>\n",
       "      <td>0.497</td>\n",
       "      <td>9.910</td>\n",
       "      <td>97.9</td>\n",
       "    </tr>\n",
       "    <tr>\n",
       "      <th>Rwanda</th>\n",
       "      <td>0.498</td>\n",
       "      <td>0.084</td>\n",
       "      <td>40.5</td>\n",
       "    </tr>\n",
       "    <tr>\n",
       "      <th>Comoros</th>\n",
       "      <td>0.498</td>\n",
       "      <td>3.430</td>\n",
       "      <td>75.8</td>\n",
       "    </tr>\n",
       "    <tr>\n",
       "      <th>...</th>\n",
       "      <td>...</td>\n",
       "      <td>...</td>\n",
       "      <td>...</td>\n",
       "    </tr>\n",
       "    <tr>\n",
       "      <th>Andorra</th>\n",
       "      <td>0.858</td>\n",
       "      <td>-0.455</td>\n",
       "      <td>2.8</td>\n",
       "    </tr>\n",
       "    <tr>\n",
       "      <th>Brunei</th>\n",
       "      <td>0.865</td>\n",
       "      <td>-17.500</td>\n",
       "      <td>10.0</td>\n",
       "    </tr>\n",
       "    <tr>\n",
       "      <th>Estonia</th>\n",
       "      <td>0.865</td>\n",
       "      <td>1.250</td>\n",
       "      <td>3.1</td>\n",
       "    </tr>\n",
       "    <tr>\n",
       "      <th>Greece</th>\n",
       "      <td>0.866</td>\n",
       "      <td>-1.020</td>\n",
       "      <td>3.8</td>\n",
       "    </tr>\n",
       "    <tr>\n",
       "      <th>Czech Republic</th>\n",
       "      <td>0.878</td>\n",
       "      <td>1.170</td>\n",
       "      <td>3.2</td>\n",
       "    </tr>\n",
       "    <tr>\n",
       "      <th>Spain</th>\n",
       "      <td>0.884</td>\n",
       "      <td>0.611</td>\n",
       "      <td>3.4</td>\n",
       "    </tr>\n",
       "    <tr>\n",
       "      <th>Italy</th>\n",
       "      <td>0.887</td>\n",
       "      <td>0.938</td>\n",
       "      <td>3.4</td>\n",
       "    </tr>\n",
       "    <tr>\n",
       "      <th>Slovenia</th>\n",
       "      <td>0.890</td>\n",
       "      <td>0.967</td>\n",
       "      <td>2.4</td>\n",
       "    </tr>\n",
       "    <tr>\n",
       "      <th>Austria</th>\n",
       "      <td>0.893</td>\n",
       "      <td>2.310</td>\n",
       "      <td>3.6</td>\n",
       "    </tr>\n",
       "    <tr>\n",
       "      <th>Finland</th>\n",
       "      <td>0.895</td>\n",
       "      <td>1.870</td>\n",
       "      <td>2.4</td>\n",
       "    </tr>\n",
       "    <tr>\n",
       "      <th>Belgium</th>\n",
       "      <td>0.896</td>\n",
       "      <td>1.110</td>\n",
       "      <td>4.0</td>\n",
       "    </tr>\n",
       "    <tr>\n",
       "      <th>France</th>\n",
       "      <td>0.897</td>\n",
       "      <td>1.090</td>\n",
       "      <td>3.9</td>\n",
       "    </tr>\n",
       "    <tr>\n",
       "      <th>Luxembourg</th>\n",
       "      <td>0.898</td>\n",
       "      <td>1.320</td>\n",
       "      <td>2.5</td>\n",
       "    </tr>\n",
       "    <tr>\n",
       "      <th>Israel</th>\n",
       "      <td>0.899</td>\n",
       "      <td>2.240</td>\n",
       "      <td>3.8</td>\n",
       "    </tr>\n",
       "    <tr>\n",
       "      <th>South Korea</th>\n",
       "      <td>0.901</td>\n",
       "      <td>2.390</td>\n",
       "      <td>3.5</td>\n",
       "    </tr>\n",
       "    <tr>\n",
       "      <th>Japan</th>\n",
       "      <td>0.903</td>\n",
       "      <td>2.140</td>\n",
       "      <td>3.0</td>\n",
       "    </tr>\n",
       "    <tr>\n",
       "      <th>United Kingdom</th>\n",
       "      <td>0.910</td>\n",
       "      <td>0.456</td>\n",
       "      <td>4.4</td>\n",
       "    </tr>\n",
       "    <tr>\n",
       "      <th>Sweden</th>\n",
       "      <td>0.913</td>\n",
       "      <td>2.070</td>\n",
       "      <td>2.9</td>\n",
       "    </tr>\n",
       "    <tr>\n",
       "      <th>New Zealand</th>\n",
       "      <td>0.915</td>\n",
       "      <td>1.590</td>\n",
       "      <td>5.6</td>\n",
       "    </tr>\n",
       "    <tr>\n",
       "      <th>United States</th>\n",
       "      <td>0.920</td>\n",
       "      <td>1.080</td>\n",
       "      <td>6.6</td>\n",
       "    </tr>\n",
       "    <tr>\n",
       "      <th>Canada</th>\n",
       "      <td>0.920</td>\n",
       "      <td>-0.756</td>\n",
       "      <td>5.1</td>\n",
       "    </tr>\n",
       "    <tr>\n",
       "      <th>Iceland</th>\n",
       "      <td>0.921</td>\n",
       "      <td>6.040</td>\n",
       "      <td>2.2</td>\n",
       "    </tr>\n",
       "    <tr>\n",
       "      <th>Ireland</th>\n",
       "      <td>0.923</td>\n",
       "      <td>7.280</td>\n",
       "      <td>3.7</td>\n",
       "    </tr>\n",
       "    <tr>\n",
       "      <th>Netherlands</th>\n",
       "      <td>0.924</td>\n",
       "      <td>0.805</td>\n",
       "      <td>3.9</td>\n",
       "    </tr>\n",
       "    <tr>\n",
       "      <th>Denmark</th>\n",
       "      <td>0.925</td>\n",
       "      <td>0.701</td>\n",
       "      <td>4.3</td>\n",
       "    </tr>\n",
       "    <tr>\n",
       "      <th>Singapore</th>\n",
       "      <td>0.925</td>\n",
       "      <td>2.540</td>\n",
       "      <td>2.7</td>\n",
       "    </tr>\n",
       "    <tr>\n",
       "      <th>Germany</th>\n",
       "      <td>0.926</td>\n",
       "      <td>2.010</td>\n",
       "      <td>3.9</td>\n",
       "    </tr>\n",
       "    <tr>\n",
       "      <th>Australia</th>\n",
       "      <td>0.939</td>\n",
       "      <td>-0.702</td>\n",
       "      <td>3.8</td>\n",
       "    </tr>\n",
       "    <tr>\n",
       "      <th>Switzerland</th>\n",
       "      <td>0.939</td>\n",
       "      <td>-0.601</td>\n",
       "      <td>4.1</td>\n",
       "    </tr>\n",
       "    <tr>\n",
       "      <th>Norway</th>\n",
       "      <td>0.949</td>\n",
       "      <td>-2.820</td>\n",
       "      <td>2.7</td>\n",
       "    </tr>\n",
       "  </tbody>\n",
       "</table>\n",
       "<p>186 rows × 3 columns</p>\n",
       "</div>"
      ],
      "text/plain": [
       "                          IDH em 2015  Inflação em 2015  \\\n",
       "País                                                      \n",
       "Central African Republic        0.352             6.160   \n",
       "Niger                           0.353             0.920   \n",
       "Chad                            0.396            -8.090   \n",
       "Burkina Faso                    0.402            -3.070   \n",
       "Burundi                         0.404             4.860   \n",
       "Guinea                          0.414             2.820   \n",
       "Mozambique                      0.418             4.380   \n",
       "South Sudan                     0.418             0.468   \n",
       "Sierra Leone                    0.420            19.600   \n",
       "Eritrea                         0.420               NaN   \n",
       "Guinea-Bissau                   0.424            10.800   \n",
       "Liberia                         0.427             1.040   \n",
       "Congo, Dem. Rep.                0.435            -1.160   \n",
       "Mali                            0.442             2.790   \n",
       "Ethiopia                        0.448            10.800   \n",
       "Gambia                          0.452             6.370   \n",
       "Djibouti                        0.473             2.110   \n",
       "Cote d'Ivoire                   0.474             3.110   \n",
       "Malawi                          0.476            20.500   \n",
       "Afghanistan                     0.479             2.430   \n",
       "Yemen                           0.482            21.400   \n",
       "Benin                           0.485             0.075   \n",
       "Togo                            0.487             3.630   \n",
       "Sudan                           0.490            17.900   \n",
       "Haiti                           0.493             6.880   \n",
       "Uganda                          0.493             5.000   \n",
       "Senegal                         0.494             0.314   \n",
       "Lesotho                         0.497             9.910   \n",
       "Rwanda                          0.498             0.084   \n",
       "Comoros                         0.498             3.430   \n",
       "...                               ...               ...   \n",
       "Andorra                         0.858            -0.455   \n",
       "Brunei                          0.865           -17.500   \n",
       "Estonia                         0.865             1.250   \n",
       "Greece                          0.866            -1.020   \n",
       "Czech Republic                  0.878             1.170   \n",
       "Spain                           0.884             0.611   \n",
       "Italy                           0.887             0.938   \n",
       "Slovenia                        0.890             0.967   \n",
       "Austria                         0.893             2.310   \n",
       "Finland                         0.895             1.870   \n",
       "Belgium                         0.896             1.110   \n",
       "France                          0.897             1.090   \n",
       "Luxembourg                      0.898             1.320   \n",
       "Israel                          0.899             2.240   \n",
       "South Korea                     0.901             2.390   \n",
       "Japan                           0.903             2.140   \n",
       "United Kingdom                  0.910             0.456   \n",
       "Sweden                          0.913             2.070   \n",
       "New Zealand                     0.915             1.590   \n",
       "United States                   0.920             1.080   \n",
       "Canada                          0.920            -0.756   \n",
       "Iceland                         0.921             6.040   \n",
       "Ireland                         0.923             7.280   \n",
       "Netherlands                     0.924             0.805   \n",
       "Denmark                         0.925             0.701   \n",
       "Singapore                       0.925             2.540   \n",
       "Germany                         0.926             2.010   \n",
       "Australia                       0.939            -0.702   \n",
       "Switzerland                     0.939            -0.601   \n",
       "Norway                          0.949            -2.820   \n",
       "\n",
       "                          Mortalidade infantil em 2015  \n",
       "País                                                    \n",
       "Central African Republic                         129.0  \n",
       "Niger                                             95.0  \n",
       "Chad                                             131.0  \n",
       "Burkina Faso                                      88.5  \n",
       "Burundi                                           74.6  \n",
       "Guinea                                            92.0  \n",
       "Mozambique                                        75.1  \n",
       "South Sudan                                       93.8  \n",
       "Sierra Leone                                     119.0  \n",
       "Eritrea                                           45.9  \n",
       "Guinea-Bissau                                     91.3  \n",
       "Liberia                                           70.1  \n",
       "Congo, Dem. Rep.                                  97.6  \n",
       "Mali                                             114.0  \n",
       "Ethiopia                                          61.3  \n",
       "Gambia                                            67.5  \n",
       "Djibouti                                          66.2  \n",
       "Cote d'Ivoire                                     95.1  \n",
       "Malawi                                            59.1  \n",
       "Afghanistan                                       73.2  \n",
       "Yemen                                             55.3  \n",
       "Benin                                            100.0  \n",
       "Togo                                              78.0  \n",
       "Sudan                                             67.1  \n",
       "Haiti                                             68.9  \n",
       "Uganda                                            55.9  \n",
       "Senegal                                           49.5  \n",
       "Lesotho                                           97.9  \n",
       "Rwanda                                            40.5  \n",
       "Comoros                                           75.8  \n",
       "...                                                ...  \n",
       "Andorra                                            2.8  \n",
       "Brunei                                            10.0  \n",
       "Estonia                                            3.1  \n",
       "Greece                                             3.8  \n",
       "Czech Republic                                     3.2  \n",
       "Spain                                              3.4  \n",
       "Italy                                              3.4  \n",
       "Slovenia                                           2.4  \n",
       "Austria                                            3.6  \n",
       "Finland                                            2.4  \n",
       "Belgium                                            4.0  \n",
       "France                                             3.9  \n",
       "Luxembourg                                         2.5  \n",
       "Israel                                             3.8  \n",
       "South Korea                                        3.5  \n",
       "Japan                                              3.0  \n",
       "United Kingdom                                     4.4  \n",
       "Sweden                                             2.9  \n",
       "New Zealand                                        5.6  \n",
       "United States                                      6.6  \n",
       "Canada                                             5.1  \n",
       "Iceland                                            2.2  \n",
       "Ireland                                            3.7  \n",
       "Netherlands                                        3.9  \n",
       "Denmark                                            4.3  \n",
       "Singapore                                          2.7  \n",
       "Germany                                            3.9  \n",
       "Australia                                          3.8  \n",
       "Switzerland                                        4.1  \n",
       "Norway                                             2.7  \n",
       "\n",
       "[186 rows x 3 columns]"
      ]
     },
     "execution_count": 33,
     "metadata": {},
     "output_type": "execute_result"
    }
   ],
   "source": [
    "idh_idx = idh_2015.set_index('País')\n",
    "morte_idx = morte_2015.set_index('País')\n",
    "inflacao_idx = inflacao_2015.set_index('País')\n",
    "\n",
    "junto = idh_idx.join(inflacao_idx, how='inner', lsuffix='_idh', rsuffix='_inflacao')\n",
    "tudo = junto.join(morte_idx, how=\"inner\")\n",
    "tudo.sort_values(by = ['IDH em 2015'])"
   ]
  },
  {
   "cell_type": "markdown",
   "metadata": {},
   "source": [
    "Criando um arquivo excel com a nova tabela:"
   ]
  },
  {
   "cell_type": "code",
   "execution_count": 48,
   "metadata": {},
   "outputs": [],
   "source": [
    "writer = pd.ExcelWriter('Projeto1.xlsx')\n",
    "tudo.to_excel(writer,'data')\n",
    "writer.save()"
   ]
  },
  {
   "cell_type": "markdown",
   "metadata": {},
   "source": [
    "# Relacionando IDH e inflação:"
   ]
  },
  {
   "cell_type": "code",
   "execution_count": 35,
   "metadata": {
    "scrolled": true
   },
   "outputs": [
    {
     "name": "stdout",
     "output_type": "stream",
     "text": [
      "A correlação entre o IDH em 2015 e a inflação em 2015 é: -0.1651316279912016\n"
     ]
    },
    {
     "data": {
      "image/png": "[encoded data removed]",
      "text/plain": [
       "<matplotlib.figure.Figure at 0x21de4fa6dd8>"
      ]
     },
     "metadata": {},
     "output_type": "display_data"
    }
   ],
   "source": [
    "tudo.plot.scatter(x='IDH em 2015',y='Inflação em 2015');\n",
    "sns.regplot(tudo[\"IDH em 2015\"],tudo[\"Inflação em 2015\"], color=('navy'))\n",
    "plt.grid()\n",
    "print('A correlação entre o IDH em 2015 e a inflação em 2015 é:', tudo['IDH em 2015'].corr(tudo['Inflação em 2015']))"
   ]
  },
  {
   "cell_type": "markdown",
   "metadata": {},
   "source": [
    "# Relacionando IDH e mortalidade infantil:"
   ]
  },
  {
   "cell_type": "code",
   "execution_count": 36,
   "metadata": {},
   "outputs": [
    {
     "name": "stdout",
     "output_type": "stream",
     "text": [
      "A correlação entre o IDH em 2015 e a mortalidade infantil em 2015 é: -0.8878100403470439\n"
     ]
    },
    {
     "data": {
      "image/png": "[encoded data removed]",
      "text/plain": [
       "<matplotlib.figure.Figure at 0x21de4cee0f0>"
      ]
     },
     "metadata": {},
     "output_type": "display_data"
    }
   ],
   "source": [
    "tudo.plot.scatter(x='IDH em 2015',y='Mortalidade infantil em 2015');\n",
    "sns.regplot(tudo[\"IDH em 2015\"],tudo[\"Mortalidade infantil em 2015\"], color=('orangered'))\n",
    "plt.grid()\n",
    "print('A correlação entre o IDH em 2015 e a mortalidade infantil em 2015 é:', tudo['IDH em 2015'].corr(tudo['Mortalidade infantil em 2015']))"
   ]
  },
  {
   "cell_type": "markdown",
   "metadata": {},
   "source": [
    "# Relacionando inflação e mortalidade infantil:"
   ]
  },
  {
   "cell_type": "code",
   "execution_count": 37,
   "metadata": {
    "scrolled": true
   },
   "outputs": [
    {
     "name": "stdout",
     "output_type": "stream",
     "text": [
      "A correlação entre a inflação em 2015 e a mortalidade infantil em 2015 é: 0.07160820857159401\n"
     ]
    },
    {
     "data": {
      "image/png": "[encoded data removed]",
      "text/plain": [
       "<matplotlib.figure.Figure at 0x21de52d98d0>"
      ]
     },
     "metadata": {},
     "output_type": "display_data"
    }
   ],
   "source": [
    "tudo.plot.scatter(x='Mortalidade infantil em 2015',y='Inflação em 2015');\n",
    "sns.regplot(tudo[\"Mortalidade infantil em 2015\"],tudo[\"Inflação em 2015\"], color=('green'))\n",
    "plt.grid()\n",
    "print('A correlação entre a inflação em 2015 e a mortalidade infantil em 2015 é:', tudo['Inflação em 2015'].corr(tudo['Mortalidade infantil em 2015']))"
   ]
  },
  {
   "cell_type": "code",
   "execution_count": 51,
   "metadata": {
    "scrolled": true
   },
   "outputs": [
    {
     "data": {
      "text/plain": [
       "<matplotlib.axes._subplots.AxesSubplot at 0x21de5eec0f0>"
      ]
     },
     "execution_count": 51,
     "metadata": {},
     "output_type": "execute_result"
    },
    {
     "data": {
      "image/png": "[encoded data removed]",
      "text/plain": [
       "<matplotlib.figure.Figure at 0x21de5cd59e8>"
      ]
     },
     "metadata": {},
     "output_type": "display_data"
    }
   ],
   "source": [
    "tudo.loc[:, \"Mortalidade infantil em 2015\"].plot.box()"
   ]
  },
  {
   "cell_type": "code",
   "execution_count": 39,
   "metadata": {},
   "outputs": [
    {
     "data": {
      "text/plain": [
       "<matplotlib.axes._subplots.AxesSubplot at 0x21de5c7a2b0>"
      ]
     },
     "execution_count": 39,
     "metadata": {},
     "output_type": "execute_result"
    },
    {
     "data": {
      "image/png": "[encoded data removed]",
      "text/plain": [
       "<matplotlib.figure.Figure at 0x21de5de99b0>"
      ]
     },
     "metadata": {},
     "output_type": "display_data"
    }
   ],
   "source": [
    "tudo.loc[:, \"IDH em 2015\"].plot.box()"
   ]
  },
  {
   "cell_type": "code",
   "execution_count": 43,
   "metadata": {},
   "outputs": [
    {
     "data": {
      "text/plain": [
       "<matplotlib.axes._subplots.AxesSubplot at 0x21de6225160>"
      ]
     },
     "execution_count": 43,
     "metadata": {},
     "output_type": "execute_result"
    },
    {
     "data": {
      "image/png": "[encoded data removed]",
      "text/plain": [
       "<matplotlib.figure.Figure at 0x21de6242048>"
      ]
     },
     "metadata": {},
     "output_type": "display_data"
    }
   ],
   "source": [
    "tudo.loc[:, \"Inflação em 2015\"].plot.box()"
   ]
  },
  {
   "cell_type": "code",
   "execution_count": 66,
   "metadata": {},
   "outputs": [],
   "source": [
    "introducao = '      Com objetivo de analisar e concluir se os índices de inflação e de morte infantil de cada nação estão relacionados com o IDH ou entre si, foram coletados dados do site: https://www.gapminder.org/tools/ para analise. Nesta, foram levados em conside-ração apenas os dados de 2015.'\n",
    "dados = '      Quando plotado o gráfico de inflação por IDH, foi possível concluir que os dados não são correlacionados, pois mesmo o   IDH (valores no eixo X) aumentando, a grande maioria das correspondentes inflações (valores no eixo Y), continuam na faixa  en-tre 10 e -10. Apenas com exceção de alguns países que tem inflação acima ou abaixo dessa faixa, tal fato não ocorre em uma fai-xa de IDH específica, mostrando que não há correlação. Concordando com essa afirmação, o valor da correlação é:'\n",
    "dados1 = '      Quando plotado o gráfico de mortalidade infantil por IDH, foi possível concluir que há correlação entre eles. Conforme o IDH (valores no eixo X) aumenta, a mortalidade infantil (valores no eixo Y) diminui, sendo vísivel que os países com IDH acima de 0,85 tem um índice de mortalidade infantil menor ou igual a 10. Conforme tal observação, o valor da correlação é:'\n",
    "graficosbox = '      Pode-se concluir também que a inflação, apesar de ter valores entre 40 e -30, a grande maioria de seus valores se concen-tra entre -5 e 5. Já o IDH, com números de aproximadamente 0,3 à aproximadamente 0,95, tem a maioria de seus valores entre 0,6 e 0,8. Para finalizar, a mortalidade infantil, que tem seu máximo de 131 e mínimo de 2,2, tem a maioria de seus valores entre  10 e 50.'\n",
    "dados2 = '      Quando plotado o gráfico de inflação por mortalidade infantil, foi possível concluir que não existe correlação. Mesmo a  mortalidade infantil (valores no eixo X) aumentando, a grande maioria das correspondentes inflações (valores no eixo Y), conti-nuam na faixa entre 10 e -10. Apenas com exceção de alguns países que tem inflação acima ou  abaixo dessa faixa, tal fato  não ocorre em uma faixa de mortalidade infantil específica, mostrando que não há correlação. Uma observação a partir do gráfico seria que, os países com menor mortalidade infantil tem uma inflação proxima de zero. Concordando com a pouco correlação, o valor desta é:'"
   ]
  },
  {
   "cell_type": "markdown",
   "metadata": {},
   "source": [
    "# Conclusão:"
   ]
  },
  {
   "cell_type": "code",
   "execution_count": 67,
   "metadata": {},
   "outputs": [
    {
     "name": "stdout",
     "output_type": "stream",
     "text": [
      "      Com objetivo de analisar e concluir se os índices de inflação e de morte infantil de cada nação estão relacionados com o IDH ou entre si, foram coletados dados do site: https://www.gapminder.org/tools/ para analise. Nesta, foram levados em conside-ração apenas os dados de 2015.\n",
      "      Quando plotado o gráfico de inflação por IDH, foi possível concluir que os dados não são correlacionados, pois mesmo o   IDH (valores no eixo X) aumentando, a grande maioria das correspondentes inflações (valores no eixo Y), continuam na faixa  en-tre 10 e -10. Apenas com exceção de alguns países que tem inflação acima ou abaixo dessa faixa, tal fato não ocorre em uma fai-xa de IDH específica, mostrando que não há correlação. Concordando com essa afirmação, o valor da correlação é:\n",
      "-0.1651316279912016\n",
      "      Quando plotado o gráfico de mortalidade infantil por IDH, foi possível concluir que há correlação entre eles. Conforme o IDH (valores no eixo X) aumenta, a mortalidade infantil (valores no eixo Y) diminui, sendo vísivel que os países com IDH acima de 0,85 tem um índice de mortalidade infantil menor ou igual a 10. Conforme tal observação, o valor da correlação é:\n",
      "-0.8878100403470439\n",
      "      Quando plotado o gráfico de inflação por mortalidade infantil, foi possível concluir que não existe correlação. Mesmo a  mortalidade infantil (valores no eixo X) aumentando, a grande maioria das correspondentes inflações (valores no eixo Y), conti-nuam na faixa entre 10 e -10. Apenas com exceção de alguns países que tem inflação acima ou  abaixo dessa faixa, tal fato  não ocorre em uma faixa de mortalidade infantil específica, mostrando que não há correlação. Uma observação a partir do gráfico seria que, os países com menor mortalidade infantil tem uma inflação proxima de zero. Concordando com a pouco correlação, o valor desta é:\n",
      "0.07160820857159401\n",
      "      Pode-se concluir também que a inflação, apesar de ter valores entre 40 e -30, a grande maioria de seus valores se concen-tra entre -5 e 5. Já o IDH, com números de aproximadamente 0,3 à aproximadamente 0,95, tem a maioria de seus valores entre 0,6 e 0,8. Para finalizar, a mortalidade infantil, que tem seu máximo de 131 e mínimo de 2,2, tem a maioria de seus valores entre  10 e 50.\n"
     ]
    }
   ],
   "source": [
    "print(introducao)\n",
    "print(dados)\n",
    "print(tudo['IDH em 2015'].corr(tudo['Inflação em 2015']))\n",
    "print(dados1)\n",
    "print(tudo['IDH em 2015'].corr(tudo['Mortalidade infantil em 2015']))\n",
    "print(dados2)\n",
    "print(tudo['Inflação em 2015'].corr(tudo['Mortalidade infantil em 2015']))\n",
    "print(graficosbox)"
   ]
  },
  {
   "cell_type": "code",
   "execution_count": null,
   "metadata": {},
   "outputs": [],
   "source": []
  },
  {
   "cell_type": "code",
   "execution_count": null,
   "metadata": {},
   "outputs": [],
   "source": []
  }
 ],
 "metadata": {
  "kernelspec": {
   "display_name": "Python 3",
   "language": "python",
   "name": "python3"
  },
  "language_info": {
   "codemirror_mode": {
    "name": "ipython",
    "version": 3
   },
   "file_extension": ".py",
   "mimetype": "text/x-python",
   "name": "python",
   "nbconvert_exporter": "python",
   "pygments_lexer": "ipython3",
   "version": "3.6.4"
  }
 },
 "nbformat": 4,
 "nbformat_minor": 2
}
